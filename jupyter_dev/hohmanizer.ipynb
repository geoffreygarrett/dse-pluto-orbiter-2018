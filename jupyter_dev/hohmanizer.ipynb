{
 "cells": [
  {
   "cell_type": "code",
   "execution_count": 133,
   "metadata": {
    "collapsed": true
   },
   "outputs": [],
   "source": [
    "import os\n",
    "os.chdir('/home/samuel/Local Software/Local Projects/pluto_orbiter_2018')\n",
    "from trajectory_tool.core import TrajectoryTool\n",
    "\n",
    "import datetime\n",
    "from collections import namedtuple\n",
    "from copy import deepcopy\n",
    "\n",
    "import astropy.units as u\n",
    "import matplotlib.pyplot as plt\n",
    "import numpy as np\n",
    "from astropy import time\n",
    "from astropy.coordinates import solar_system_ephemeris, get_body_barycentric_posvel\n",
    "from poliastro import iod\n",
    "from poliastro.bodies import Sun, Mercury, Venus, Earth, Mars, Jupiter, Saturn, Uranus, Neptune, Pluto\n",
    "from poliastro.plotting import OrbitPlotter\n",
    "from poliastro.twobody import Orbit\n",
    "from poliastro.util import time_range\n",
    "from trajectory_tool.helper import body_d_domain\n",
    "from pprint import pprint\n",
    "#from trajectory_tool.grav_ass.hyperbolic_calculator_resources2 import grav_ass, angle_check\n",
    "from scipy.optimize import minimize_scalar\n",
    "from trajectory_tool.helper import body_d_domain\n",
    "\n",
    "tt = TrajectoryTool()"
   ]
  },
  {
   "cell_type": "code",
   "execution_count": 134,
   "metadata": {},
   "outputs": [],
   "source": [
    "class hohmanize_lambert(object):\n",
    "\n",
    "    def __init__(self, decorated):\n",
    "        self._decorated = decorated\n",
    "        \n",
    "\n",
    "    def __get__(self, instance, owner):\n",
    "        self.cls = owner\n",
    "        self.obj = instance\n",
    "        return self.__call__\n",
    "    \n",
    "\n",
    "    def __call__(self, *args, **kwargs):\n",
    "        lam_sol = self._decorated()\n",
    "        # lambert_parameters = namedtuple('lambert_parameters', \n",
    "        #                                 'r0 r1 v0 v1 tof attractor epoch0 '\n",
    "        #                                 'epoch1 ss0 ss1, sst')\n",
    "\n",
    "        lam_sol\n",
    "        \n",
    "        \n",
    "        return self._decorated(*args)\n",
    "    "
   ]
  },
  {
   "cell_type": "code",
   "execution_count": 135,
   "metadata": {
    "collapsed": true
   },
   "outputs": [
    {
     "name": "stdout",
     "output_type": "stream",
     "text": [
      "lambert_parameters(r0=<Quantity [-5.93511837e+08, -5.12730597e+08, -2.05312867e+08] km>, r1=<Quantity [ 5.80981102e+09, -1.18431775e+09, -2.12005810e+09] km>, v0=<Quantity [  9.53893627, -11.7953105 , -10.03894773] km / s>, v1=<Quantity [ 6.6380333 ,  0.69365772, -1.05964129] km / s>, tof=<TimeDelta object: scale='tai' format='jd' value=8340.98>, attractor=Sun (☉), epoch0=<Time object: scale='tdb' format='datetime' value=2030-01-10 23:25:09.184218>, epoch1=<Time object: scale='tdb' format='datetime' value=2052-11-11 22:56:21.182685>, ss0=5 x 5 AU x 23.2 deg orbit around Sun (☉), ss1=30 x 49 AU x 23.5 deg orbit around Sun (☉), sst=788642048 x -76280881385 km x 35.1 deg orbit around Sun (☉))\n"
     ]
    },
    {
     "name": "stderr",
     "output_type": "stream",
     "text": [
      "WARNING: ErfaWarning: ERFA function \"dtf2d\" yielded 1 of \"dubious year (Note 6)\" [astropy._erfa.core]\nWARNING: ErfaWarning: ERFA function \"utctai\" yielded 1 of \"dubious year (Note 3)\" [astropy._erfa.core]\nWARNING: ErfaWarning: ERFA function \"taiutc\" yielded 1 of \"dubious year (Note 4)\" [astropy._erfa.core]\n/home/samuel/environments/pyd1/lib/python3.6/site-packages/poliastro/twobody/orbit.py:164: TimeScaleWarning:\n\nInput time was converted to scale='tdb' with value 2030-01-10 23:25:09.184218. Use Time(..., scale='tdb') instead.\n\n/home/samuel/environments/pyd1/lib/python3.6/site-packages/poliastro/twobody/orbit.py:164: TimeScaleWarning:\n\nInput time was converted to scale='tdb' with value 2052-11-11 22:56:21.182685. Use Time(..., scale='tdb') instead.\n\n"
     ]
    }
   ],
   "source": [
    "body1 = Jupiter\n",
    "body2 = Pluto\n",
    "\n",
    "durations = [2.115, 22.852]\n",
    "\n",
    "epoch0 = datetime.datetime(2027, 12, 1, 0, 0)\n",
    "epoch1 = epoch0 + datetime.timedelta(days = 365*durations[0])\n",
    "epoch2 = epoch1 + datetime.timedelta(days = 365*durations[1])\n",
    "\n",
    "epoch0 = time.Time(epoch0)\n",
    "epoch1 = time.Time(epoch1)\n",
    "epoch2 = time.Time(epoch2)\n",
    "\n",
    "ss1 = Orbit.from_body_ephem(Jupiter, time.Time(epoch1))\n",
    "ss2 = Orbit.from_body_ephem(Pluto, time.Time(epoch2))\n",
    "\n",
    "\n",
    "tof = time.Time(epoch2) - time.Time(epoch1)\n",
    "\n",
    "# (v0, v1), = hohmanize_lambert(iod.lambert)(Sun.k, ss1.r, ss2.r, tof)\n",
    "\n",
    "lam_sol = hohmanize_lambert(tt.lambert_solve_from_bodies)(body1, body2, epoch1, epoch2, Sun)\n",
    "\n",
    "from pprint import pprint\n",
    "\n",
    "pprint(lam_sol)\n"
   ]
  },
  {
   "cell_type": "code",
   "execution_count": 136,
   "metadata": {},
   "outputs": [],
   "source": []
  },
  {
   "cell_type": "code",
   "execution_count": 136,
   "metadata": {},
   "outputs": [],
   "source": []
  }
 ],
 "metadata": {
  "kernelspec": {
   "display_name": "Python 2",
   "language": "python",
   "name": "python2"
  },
  "language_info": {
   "codemirror_mode": {
    "name": "ipython",
    "version": 2
   },
   "file_extension": ".py",
   "mimetype": "text/x-python",
   "name": "python",
   "nbconvert_exporter": "python",
   "pygments_lexer": "ipython2",
   "version": "2.7.6"
  }
 },
 "nbformat": 4,
 "nbformat_minor": 0
}
